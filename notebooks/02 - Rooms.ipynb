{
 "cells": [
  {
   "cell_type": "markdown",
   "metadata": {},
   "source": [
    "# Room Info\n",
    "\n",
    "Some basic info about rooms"
   ]
  },
  {
   "cell_type": "markdown",
   "metadata": {},
   "source": [
    "## Setup"
   ]
  },
  {
   "cell_type": "code",
   "execution_count": 1,
   "metadata": {},
   "outputs": [],
   "source": [
    "from pathlib import Path\n",
    "import os\n",
    "import sys\n",
    "sys.path.append(f'{Path(os.getcwd()) / \"..\"}')\n",
    "\n",
    "import yaml\n",
    "from zoom_data import load_all"
   ]
  },
  {
   "cell_type": "markdown",
   "metadata": {},
   "source": [
    "## Loading Data"
   ]
  },
  {
   "cell_type": "code",
   "execution_count": 3,
   "metadata": {},
   "outputs": [],
   "source": [
    "zoom_data = load_all(Path('../../snowmass-cpm-data'))"
   ]
  },
  {
   "cell_type": "code",
   "execution_count": 4,
   "metadata": {},
   "outputs": [],
   "source": [
    "room_names = set(z._topic for z in zoom_data)"
   ]
  },
  {
   "cell_type": "markdown",
   "metadata": {},
   "source": [
    "## Checks\n",
    "\n",
    "Make sure the names all look good"
   ]
  },
  {
   "cell_type": "code",
   "execution_count": 5,
   "metadata": {},
   "outputs": [
    {
     "data": {
      "text/plain": [
       "{'CPM Breakout - Zoom 1',\n",
       " 'CPM Breakout - Zoom 10',\n",
       " 'CPM Breakout - Zoom 11',\n",
       " 'CPM Breakout - Zoom 12',\n",
       " 'CPM Breakout - Zoom 13',\n",
       " 'CPM Breakout - Zoom 14',\n",
       " 'CPM Breakout - Zoom 15',\n",
       " 'CPM Breakout - Zoom 16',\n",
       " 'CPM Breakout - Zoom 17',\n",
       " 'CPM Breakout - Zoom 18',\n",
       " 'CPM Breakout - Zoom 19',\n",
       " 'CPM Breakout - Zoom 2',\n",
       " 'CPM Breakout - Zoom 20',\n",
       " 'CPM Breakout - Zoom 21',\n",
       " 'CPM Breakout - Zoom 3',\n",
       " 'CPM Breakout - Zoom 4',\n",
       " 'CPM Breakout - Zoom 5',\n",
       " 'CPM Breakout - Zoom 6',\n",
       " 'CPM Breakout - Zoom 7',\n",
       " 'CPM Breakout - Zoom 8',\n",
       " 'CPM Breakout - Zoom 9',\n",
       " 'Plenary Monday',\n",
       " 'Plenary Thursday',\n",
       " 'Plenary Wednesday'}"
      ]
     },
     "execution_count": 5,
     "metadata": {},
     "output_type": "execute_result"
    }
   ],
   "source": [
    "room_names"
   ]
  },
  {
   "cell_type": "code",
   "execution_count": 6,
   "metadata": {},
   "outputs": [],
   "source": [
    "def good_name(n: str):\n",
    "    if n.startswith('CPM Breakout - Zoom'):\n",
    "        return True\n",
    "    if n.startswith('Plenary') and len(n.split(' ')) == 2:\n",
    "        return True\n",
    "    return False\n",
    "\n",
    "if any(not good_name(z) for z in room_names):\n",
    "    print(\"NO - BAD ROOM NAME - STOP\")\n",
    "    print(room_names)"
   ]
  },
  {
   "cell_type": "markdown",
   "metadata": {},
   "source": [
    "## Write out info"
   ]
  },
  {
   "cell_type": "code",
   "execution_count": 7,
   "metadata": {},
   "outputs": [
    {
     "data": {
      "text/plain": [
       "[{'name': 'Plenary Monday', 'id': 0},\n",
       " {'name': 'Plenary Wednesday', 'id': 2},\n",
       " {'name': 'Plenary Thursday', 'id': 3},\n",
       " {'name': 'CPM Breakout - Zoom 1', 'id': 11},\n",
       " {'name': 'CPM Breakout - Zoom 2', 'id': 12},\n",
       " {'name': 'CPM Breakout - Zoom 3', 'id': 13},\n",
       " {'name': 'CPM Breakout - Zoom 4', 'id': 14},\n",
       " {'name': 'CPM Breakout - Zoom 5', 'id': 15},\n",
       " {'name': 'CPM Breakout - Zoom 6', 'id': 16},\n",
       " {'name': 'CPM Breakout - Zoom 7', 'id': 17},\n",
       " {'name': 'CPM Breakout - Zoom 8', 'id': 18},\n",
       " {'name': 'CPM Breakout - Zoom 9', 'id': 19},\n",
       " {'name': 'CPM Breakout - Zoom 10', 'id': 20},\n",
       " {'name': 'CPM Breakout - Zoom 11', 'id': 21},\n",
       " {'name': 'CPM Breakout - Zoom 12', 'id': 22},\n",
       " {'name': 'CPM Breakout - Zoom 13', 'id': 23},\n",
       " {'name': 'CPM Breakout - Zoom 14', 'id': 24},\n",
       " {'name': 'CPM Breakout - Zoom 15', 'id': 25},\n",
       " {'name': 'CPM Breakout - Zoom 16', 'id': 26},\n",
       " {'name': 'CPM Breakout - Zoom 17', 'id': 27},\n",
       " {'name': 'CPM Breakout - Zoom 18', 'id': 28},\n",
       " {'name': 'CPM Breakout - Zoom 19', 'id': 29},\n",
       " {'name': 'CPM Breakout - Zoom 20', 'id': 30},\n",
       " {'name': 'CPM Breakout - Zoom 21', 'id': 31}]"
      ]
     },
     "execution_count": 7,
     "metadata": {},
     "output_type": "execute_result"
    }
   ],
   "source": [
    "seen_id = set()\n",
    "def is_unique(id: int):\n",
    "    if id in seen_id:\n",
    "        return True\n",
    "    seen_id.add(id)\n",
    "    return False\n",
    "\n",
    "room_name_data = [\n",
    "    {\n",
    "        \"name\": z.room_name,\n",
    "        \"id\": z.id\n",
    "    }\n",
    "    for z in zoom_data if not is_unique(z.id)\n",
    "]\n",
    "room_name_data = sorted(room_name_data, key=lambda d: d['id'])\n",
    "room_name_data"
   ]
  },
  {
   "cell_type": "code",
   "execution_count": 8,
   "metadata": {},
   "outputs": [],
   "source": [
    "with open('../web/_data/rooms.yml', 'w') as outfile:\n",
    "    yaml.dump(room_name_data, outfile)"
   ]
  }
 ],
 "metadata": {
  "kernelspec": {
   "display_name": "Python 3",
   "language": "python",
   "name": "python3"
  },
  "language_info": {
   "codemirror_mode": {
    "name": "ipython",
    "version": 3
   },
   "file_extension": ".py",
   "mimetype": "text/x-python",
   "name": "python",
   "nbconvert_exporter": "python",
   "pygments_lexer": "ipython3",
   "version": "3.7.7"
  }
 },
 "nbformat": 4,
 "nbformat_minor": 4
}
