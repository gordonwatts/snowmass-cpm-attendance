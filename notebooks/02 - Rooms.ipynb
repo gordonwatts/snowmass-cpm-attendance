{
 "cells": [
  {
   "cell_type": "markdown",
   "metadata": {},
   "source": [
    "# Room Info\n",
    "\n",
    "Some basic info about rooms"
   ]
  },
  {
   "cell_type": "markdown",
   "metadata": {},
   "source": [
    "## Setup"
   ]
  },
  {
   "cell_type": "code",
   "execution_count": 1,
   "metadata": {},
   "outputs": [],
   "source": [
    "from pathlib import Path\n",
    "import os\n",
    "import sys\n",
    "sys.path.append(f'{Path(os.getcwd()) / \"..\"}')\n",
    "\n",
    "import yaml\n",
    "from zoom_data import load_all"
   ]
  },
  {
   "cell_type": "markdown",
   "metadata": {},
   "source": [
    "## Loading Data"
   ]
  },
  {
   "cell_type": "code",
   "execution_count": 2,
   "metadata": {},
   "outputs": [],
   "source": [
    "zoom_data = load_all(Path('../../snowmass-cpm-data'))"
   ]
  },
  {
   "cell_type": "code",
   "execution_count": 3,
   "metadata": {},
   "outputs": [],
   "source": [
    "room_names = set(z._topic for z in zoom_data)"
   ]
  },
  {
   "cell_type": "markdown",
   "metadata": {},
   "source": [
    "## Checks\n",
    "\n",
    "Make sure the names all look good"
   ]
  },
  {
   "cell_type": "code",
   "execution_count": 4,
   "metadata": {},
   "outputs": [
    {
     "data": {
      "text/plain": [
       "{'CPM Breakout - Zoom 1',\n",
       " 'CPM Breakout - Zoom 11',\n",
       " 'CPM Breakout - Zoom 14',\n",
       " 'CPM Breakout - Zoom 15',\n",
       " 'CPM Breakout - Zoom 16',\n",
       " 'CPM Breakout - Zoom 17',\n",
       " 'CPM Breakout - Zoom 18',\n",
       " 'CPM Breakout - Zoom 3',\n",
       " 'CPM Breakout - Zoom 4',\n",
       " 'CPM Breakout - Zoom 5',\n",
       " 'CPM Breakout - Zoom 6',\n",
       " 'CPM Breakout - Zoom 7',\n",
       " 'CPM Breakout - Zoom 8'}"
      ]
     },
     "execution_count": 4,
     "metadata": {},
     "output_type": "execute_result"
    }
   ],
   "source": [
    "room_names"
   ]
  },
  {
   "cell_type": "code",
   "execution_count": 5,
   "metadata": {},
   "outputs": [],
   "source": [
    "if any(not z.startswith('CPM Breakout - Zoom ') for z in room_names):\n",
    "    print(\"NO - BAD ROOM NAME - STOP\")\n",
    "    print(room_names)"
   ]
  },
  {
   "cell_type": "markdown",
   "metadata": {},
   "source": [
    "## Write out info"
   ]
  },
  {
   "cell_type": "code",
   "execution_count": 12,
   "metadata": {},
   "outputs": [
    {
     "data": {
      "text/plain": [
       "[{'name': 'CPM Breakout - Zoom 1', 'id': 1},\n",
       " {'name': 'CPM Breakout - Zoom 3', 'id': 3},\n",
       " {'name': 'CPM Breakout - Zoom 4', 'id': 4},\n",
       " {'name': 'CPM Breakout - Zoom 5', 'id': 5},\n",
       " {'name': 'CPM Breakout - Zoom 6', 'id': 6},\n",
       " {'name': 'CPM Breakout - Zoom 7', 'id': 7},\n",
       " {'name': 'CPM Breakout - Zoom 8', 'id': 8},\n",
       " {'name': 'CPM Breakout - Zoom 11', 'id': 11},\n",
       " {'name': 'CPM Breakout - Zoom 14', 'id': 14},\n",
       " {'name': 'CPM Breakout - Zoom 15', 'id': 15},\n",
       " {'name': 'CPM Breakout - Zoom 16', 'id': 16},\n",
       " {'name': 'CPM Breakout - Zoom 17', 'id': 17},\n",
       " {'name': 'CPM Breakout - Zoom 18', 'id': 18}]"
      ]
     },
     "execution_count": 12,
     "metadata": {},
     "output_type": "execute_result"
    }
   ],
   "source": [
    "room_names = sorted(room_names, key = lambda n: int(n[-2:]))\n",
    "room_name_data = [{\n",
    "    \"name\": n,\n",
    "    \"id\": int(n[-2:])\n",
    "    } for n in room_names]\n",
    "room_name_data"
   ]
  },
  {
   "cell_type": "code",
   "execution_count": 13,
   "metadata": {},
   "outputs": [],
   "source": [
    "with open('../web/_data/rooms.yml', 'w') as outfile:\n",
    "    yaml.dump(room_name_data, outfile)"
   ]
  },
  {
   "cell_type": "code",
   "execution_count": null,
   "metadata": {},
   "outputs": [],
   "source": []
  }
 ],
 "metadata": {
  "kernelspec": {
   "display_name": "Python 3",
   "language": "python",
   "name": "python3"
  },
  "language_info": {
   "codemirror_mode": {
    "name": "ipython",
    "version": 3
   },
   "file_extension": ".py",
   "mimetype": "text/x-python",
   "name": "python",
   "nbconvert_exporter": "python",
   "pygments_lexer": "ipython3",
   "version": "3.7.7"
  }
 },
 "nbformat": 4,
 "nbformat_minor": 4
}
