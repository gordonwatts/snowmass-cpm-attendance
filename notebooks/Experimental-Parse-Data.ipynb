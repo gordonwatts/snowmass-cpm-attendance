{
 "cells": [
  {
   "cell_type": "markdown",
   "metadata": {},
   "source": [
    "# Parsing the Data Files\n",
    "\n",
    "This notebook is used to develop code to parse the Excel datafiles that are extracted as usage reports from zoom."
   ]
  },
  {
   "cell_type": "markdown",
   "metadata": {},
   "source": [
    "## Setup"
   ]
  },
  {
   "cell_type": "code",
   "execution_count": 1,
   "metadata": {},
   "outputs": [],
   "source": [
    "from pathlib import Path\n",
    "import pandas as pd"
   ]
  },
  {
   "cell_type": "code",
   "execution_count": 2,
   "metadata": {},
   "outputs": [],
   "source": [
    "test_file = Path('../../snowmass-cpm-data/participants_99469847300.csv')"
   ]
  },
  {
   "cell_type": "markdown",
   "metadata": {},
   "source": [
    "## Extract meeting header information"
   ]
  },
  {
   "cell_type": "code",
   "execution_count": 3,
   "metadata": {},
   "outputs": [],
   "source": [
    "header_info = pd.read_csv(test_file, nrows=1, parse_dates=['Start Time', 'End Time'])"
   ]
  },
  {
   "cell_type": "code",
   "execution_count": 4,
   "metadata": {},
   "outputs": [
    {
     "data": {
      "text/html": [
       "<div>\n",
       "<style scoped>\n",
       "    .dataframe tbody tr th:only-of-type {\n",
       "        vertical-align: middle;\n",
       "    }\n",
       "\n",
       "    .dataframe tbody tr th {\n",
       "        vertical-align: top;\n",
       "    }\n",
       "\n",
       "    .dataframe thead th {\n",
       "        text-align: right;\n",
       "    }\n",
       "</style>\n",
       "<table border=\"1\" class=\"dataframe\">\n",
       "  <thead>\n",
       "    <tr style=\"text-align: right;\">\n",
       "      <th></th>\n",
       "      <th>Meeting ID</th>\n",
       "      <th>Topic</th>\n",
       "      <th>Start Time</th>\n",
       "      <th>End Time</th>\n",
       "      <th>User Email</th>\n",
       "      <th>Duration (Minutes)</th>\n",
       "      <th>Participants</th>\n",
       "      <th>Unnamed: 7</th>\n",
       "    </tr>\n",
       "  </thead>\n",
       "  <tbody>\n",
       "    <tr>\n",
       "      <th>0</th>\n",
       "      <td>99469847300</td>\n",
       "      <td>CPM Breakout - Zoom #6</td>\n",
       "      <td>2020-10-06 08:41:49</td>\n",
       "      <td>2020-10-06 14:18:45</td>\n",
       "      <td>gwatts@uw.edu</td>\n",
       "      <td>337</td>\n",
       "      <td>282</td>\n",
       "      <td>NaN</td>\n",
       "    </tr>\n",
       "  </tbody>\n",
       "</table>\n",
       "</div>"
      ],
      "text/plain": [
       "    Meeting ID                   Topic          Start Time  \\\n",
       "0  99469847300  CPM Breakout - Zoom #6 2020-10-06 08:41:49   \n",
       "\n",
       "             End Time     User Email  Duration (Minutes)  Participants  \\\n",
       "0 2020-10-06 14:18:45  gwatts@uw.edu                 337           282   \n",
       "\n",
       "   Unnamed: 7  \n",
       "0         NaN  "
      ]
     },
     "execution_count": 4,
     "metadata": {},
     "output_type": "execute_result"
    }
   ],
   "source": [
    "header_info"
   ]
  },
  {
   "cell_type": "code",
   "execution_count": 5,
   "metadata": {},
   "outputs": [
    {
     "data": {
      "text/plain": [
       "99469847300"
      ]
     },
     "execution_count": 5,
     "metadata": {},
     "output_type": "execute_result"
    }
   ],
   "source": [
    "header_info['Meeting ID'][0]"
   ]
  },
  {
   "cell_type": "code",
   "execution_count": 6,
   "metadata": {},
   "outputs": [
    {
     "name": "stdout",
     "output_type": "stream",
     "text": [
      "<class 'pandas.core.frame.DataFrame'>\n",
      "RangeIndex: 1 entries, 0 to 0\n",
      "Data columns (total 8 columns):\n",
      " #   Column              Non-Null Count  Dtype         \n",
      "---  ------              --------------  -----         \n",
      " 0   Meeting ID          1 non-null      int64         \n",
      " 1   Topic               1 non-null      object        \n",
      " 2   Start Time          1 non-null      datetime64[ns]\n",
      " 3   End Time            1 non-null      datetime64[ns]\n",
      " 4   User Email          1 non-null      object        \n",
      " 5   Duration (Minutes)  1 non-null      int64         \n",
      " 6   Participants        1 non-null      int64         \n",
      " 7   Unnamed: 7          0 non-null      float64       \n",
      "dtypes: datetime64[ns](2), float64(1), int64(3), object(2)\n",
      "memory usage: 192.0+ bytes\n"
     ]
    }
   ],
   "source": [
    "header_info.info()"
   ]
  },
  {
   "cell_type": "markdown",
   "metadata": {},
   "source": [
    "## Extract meeting comings and goings"
   ]
  },
  {
   "cell_type": "code",
   "execution_count": 7,
   "metadata": {},
   "outputs": [],
   "source": [
    "meeting_info = pd.read_csv(test_file, skiprows=2, parse_dates=['Join Time', 'Leave Time'])"
   ]
  },
  {
   "cell_type": "code",
   "execution_count": 8,
   "metadata": {},
   "outputs": [
    {
     "data": {
      "text/html": [
       "<div>\n",
       "<style scoped>\n",
       "    .dataframe tbody tr th:only-of-type {\n",
       "        vertical-align: middle;\n",
       "    }\n",
       "\n",
       "    .dataframe tbody tr th {\n",
       "        vertical-align: top;\n",
       "    }\n",
       "\n",
       "    .dataframe thead th {\n",
       "        text-align: right;\n",
       "    }\n",
       "</style>\n",
       "<table border=\"1\" class=\"dataframe\">\n",
       "  <thead>\n",
       "    <tr style=\"text-align: right;\">\n",
       "      <th></th>\n",
       "      <th>Name (Original Name)</th>\n",
       "      <th>User Email</th>\n",
       "      <th>Join Time</th>\n",
       "      <th>Leave Time</th>\n",
       "      <th>Duration (Minutes)</th>\n",
       "      <th>Recording Consent</th>\n",
       "    </tr>\n",
       "  </thead>\n",
       "  <tbody>\n",
       "    <tr>\n",
       "      <th>0</th>\n",
       "      <td>Zhao Li</td>\n",
       "      <td>zhaoli@ihep.ac.cn</td>\n",
       "      <td>2020-10-06 08:57:17</td>\n",
       "      <td>2020-10-06 13:07:42</td>\n",
       "      <td>251</td>\n",
       "      <td>Y</td>\n",
       "    </tr>\n",
       "    <tr>\n",
       "      <th>1</th>\n",
       "      <td>emanuele mereghetti</td>\n",
       "      <td>NaN</td>\n",
       "      <td>2020-10-06 08:57:21</td>\n",
       "      <td>2020-10-06 11:17:30</td>\n",
       "      <td>141</td>\n",
       "      <td>NaN</td>\n",
       "    </tr>\n",
       "    <tr>\n",
       "      <th>2</th>\n",
       "      <td>Joshua William Foster</td>\n",
       "      <td>fosterjw@umich.edu</td>\n",
       "      <td>2020-10-06 08:58:10</td>\n",
       "      <td>2020-10-06 09:52:45</td>\n",
       "      <td>55</td>\n",
       "      <td>Y</td>\n",
       "    </tr>\n",
       "    <tr>\n",
       "      <th>3</th>\n",
       "      <td>Christian Bauer</td>\n",
       "      <td>CWBauer@lbl.gov</td>\n",
       "      <td>2020-10-06 08:58:16</td>\n",
       "      <td>2020-10-06 09:04:46</td>\n",
       "      <td>7</td>\n",
       "      <td>NaN</td>\n",
       "    </tr>\n",
       "    <tr>\n",
       "      <th>4</th>\n",
       "      <td>Andreas Karch</td>\n",
       "      <td>NaN</td>\n",
       "      <td>2020-10-06 08:58:34</td>\n",
       "      <td>2020-10-06 09:30:18</td>\n",
       "      <td>32</td>\n",
       "      <td>NaN</td>\n",
       "    </tr>\n",
       "    <tr>\n",
       "      <th>...</th>\n",
       "      <td>...</td>\n",
       "      <td>...</td>\n",
       "      <td>...</td>\n",
       "      <td>...</td>\n",
       "      <td>...</td>\n",
       "      <td>...</td>\n",
       "    </tr>\n",
       "    <tr>\n",
       "      <th>316</th>\n",
       "      <td>Tania Robens</td>\n",
       "      <td>NaN</td>\n",
       "      <td>2020-10-06 12:01:49</td>\n",
       "      <td>2020-10-06 13:07:36</td>\n",
       "      <td>66</td>\n",
       "      <td>Y</td>\n",
       "    </tr>\n",
       "    <tr>\n",
       "      <th>317</th>\n",
       "      <td>Giovanni Maria Piacentino</td>\n",
       "      <td>giovanni.piacentino@unimol.it</td>\n",
       "      <td>2020-10-06 12:40:19</td>\n",
       "      <td>2020-10-06 14:18:45</td>\n",
       "      <td>99</td>\n",
       "      <td>Y</td>\n",
       "    </tr>\n",
       "    <tr>\n",
       "      <th>318</th>\n",
       "      <td>William J. Torres Bobadilla</td>\n",
       "      <td>unipd_4VeSSfIa9IuMbu8IXu0Tp7ger68=</td>\n",
       "      <td>2020-10-06 12:42:30</td>\n",
       "      <td>2020-10-06 13:07:47</td>\n",
       "      <td>26</td>\n",
       "      <td>Y</td>\n",
       "    </tr>\n",
       "    <tr>\n",
       "      <th>319</th>\n",
       "      <td>webber</td>\n",
       "      <td>NaN</td>\n",
       "      <td>2020-10-06 13:16:57</td>\n",
       "      <td>2020-10-06 13:17:30</td>\n",
       "      <td>1</td>\n",
       "      <td>NaN</td>\n",
       "    </tr>\n",
       "    <tr>\n",
       "      <th>320</th>\n",
       "      <td>Alessandra Buonanno</td>\n",
       "      <td>alessandra.buonanno@aei.mpg.de</td>\n",
       "      <td>2020-10-06 13:27:08</td>\n",
       "      <td>2020-10-06 14:18:32</td>\n",
       "      <td>52</td>\n",
       "      <td>NaN</td>\n",
       "    </tr>\n",
       "  </tbody>\n",
       "</table>\n",
       "<p>321 rows × 6 columns</p>\n",
       "</div>"
      ],
      "text/plain": [
       "            Name (Original Name)                          User Email  \\\n",
       "0                        Zhao Li                   zhaoli@ihep.ac.cn   \n",
       "1            emanuele mereghetti                                 NaN   \n",
       "2          Joshua William Foster                  fosterjw@umich.edu   \n",
       "3                Christian Bauer                     CWBauer@lbl.gov   \n",
       "4                  Andreas Karch                                 NaN   \n",
       "..                           ...                                 ...   \n",
       "316                 Tania Robens                                 NaN   \n",
       "317    Giovanni Maria Piacentino       giovanni.piacentino@unimol.it   \n",
       "318  William J. Torres Bobadilla  unipd_4VeSSfIa9IuMbu8IXu0Tp7ger68=   \n",
       "319                       webber                                 NaN   \n",
       "320          Alessandra Buonanno      alessandra.buonanno@aei.mpg.de   \n",
       "\n",
       "              Join Time          Leave Time  Duration (Minutes)  \\\n",
       "0   2020-10-06 08:57:17 2020-10-06 13:07:42                 251   \n",
       "1   2020-10-06 08:57:21 2020-10-06 11:17:30                 141   \n",
       "2   2020-10-06 08:58:10 2020-10-06 09:52:45                  55   \n",
       "3   2020-10-06 08:58:16 2020-10-06 09:04:46                   7   \n",
       "4   2020-10-06 08:58:34 2020-10-06 09:30:18                  32   \n",
       "..                  ...                 ...                 ...   \n",
       "316 2020-10-06 12:01:49 2020-10-06 13:07:36                  66   \n",
       "317 2020-10-06 12:40:19 2020-10-06 14:18:45                  99   \n",
       "318 2020-10-06 12:42:30 2020-10-06 13:07:47                  26   \n",
       "319 2020-10-06 13:16:57 2020-10-06 13:17:30                   1   \n",
       "320 2020-10-06 13:27:08 2020-10-06 14:18:32                  52   \n",
       "\n",
       "    Recording Consent  \n",
       "0                   Y  \n",
       "1                 NaN  \n",
       "2                   Y  \n",
       "3                 NaN  \n",
       "4                 NaN  \n",
       "..                ...  \n",
       "316                 Y  \n",
       "317                 Y  \n",
       "318                 Y  \n",
       "319               NaN  \n",
       "320               NaN  \n",
       "\n",
       "[321 rows x 6 columns]"
      ]
     },
     "execution_count": 8,
     "metadata": {},
     "output_type": "execute_result"
    }
   ],
   "source": [
    "meeting_info"
   ]
  },
  {
   "cell_type": "code",
   "execution_count": 9,
   "metadata": {},
   "outputs": [],
   "source": [
    "d = meeting_info[['Name (Original Name)', \"Join Time\", \"Leave Time\"]]"
   ]
  },
  {
   "cell_type": "code",
   "execution_count": 10,
   "metadata": {},
   "outputs": [
    {
     "data": {
      "text/plain": [
       "pandas.core.frame.DataFrame"
      ]
     },
     "execution_count": 10,
     "metadata": {},
     "output_type": "execute_result"
    }
   ],
   "source": [
    "type(d)"
   ]
  },
  {
   "cell_type": "code",
   "execution_count": 11,
   "metadata": {},
   "outputs": [
    {
     "name": "stdout",
     "output_type": "stream",
     "text": [
      "<class 'pandas.core.frame.DataFrame'>\n",
      "RangeIndex: 321 entries, 0 to 320\n",
      "Data columns (total 6 columns):\n",
      " #   Column                Non-Null Count  Dtype         \n",
      "---  ------                --------------  -----         \n",
      " 0   Name (Original Name)  321 non-null    object        \n",
      " 1   User Email            218 non-null    object        \n",
      " 2   Join Time             321 non-null    datetime64[ns]\n",
      " 3   Leave Time            321 non-null    datetime64[ns]\n",
      " 4   Duration (Minutes)    321 non-null    int64         \n",
      " 5   Recording Consent     161 non-null    object        \n",
      "dtypes: datetime64[ns](2), int64(1), object(3)\n",
      "memory usage: 15.2+ KB\n"
     ]
    }
   ],
   "source": [
    "meeting_info.info()"
   ]
  },
  {
   "cell_type": "code",
   "execution_count": null,
   "metadata": {},
   "outputs": [],
   "source": []
  }
 ],
 "metadata": {
  "kernelspec": {
   "display_name": "Python 3",
   "language": "python",
   "name": "python3"
  },
  "language_info": {
   "codemirror_mode": {
    "name": "ipython",
    "version": 3
   },
   "file_extension": ".py",
   "mimetype": "text/x-python",
   "name": "python",
   "nbconvert_exporter": "python",
   "pygments_lexer": "ipython3",
   "version": "3.7.7"
  }
 },
 "nbformat": 4,
 "nbformat_minor": 4
}
